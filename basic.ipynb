{
 "cells": [
  {
   "cell_type": "markdown",
   "metadata": {},
   "source": [
    "# Hello world"
   ]
  },
  {
   "cell_type": "raw",
   "metadata": {},
   "source": [
    "# 国际惯例"
   ]
  },
  {
   "cell_type": "code",
   "execution_count": 9,
   "metadata": {},
   "outputs": [
    {
     "name": "stdout",
     "output_type": "stream",
     "text": [
      "Hello World!\n"
     ]
    }
   ],
   "source": [
    "print('Hello World!')"
   ]
  },
  {
   "cell_type": "markdown",
   "metadata": {},
   "source": [
    "# 变量"
   ]
  },
  {
   "cell_type": "markdown",
   "metadata": {},
   "source": [
    "#python中变量的声明和赋值合成在一句语句中，且会自动判断变量类型"
   ]
  },
  {
   "cell_type": "code",
   "execution_count": 13,
   "metadata": {},
   "outputs": [
    {
     "name": "stdout",
     "output_type": "stream",
     "text": [
      "integer = 10\n",
      "float = 10.0\n",
      "string = 王紫珩\n"
     ]
    }
   ],
   "source": [
    "integer = 10\n",
    "float_num = 10.0\n",
    "string = '王紫珩' #python中单引号和双引号没有区别\n",
    "print('integer =', integer)\n",
    "print('float =', float_num)\n",
    "print('string =', string)"
   ]
  },
  {
   "cell_type": "markdown",
   "metadata": {},
   "source": [
    "# IO"
   ]
  },
  {
   "cell_type": "code",
   "execution_count": 52,
   "metadata": {},
   "outputs": [
    {
     "name": "stdout",
     "output_type": "stream",
     "text": [
      "print用来输出\n"
     ]
    }
   ],
   "source": [
    "print('print用来输出')"
   ]
  },
  {
   "cell_type": "code",
   "execution_count": 54,
   "metadata": {},
   "outputs": [
    {
     "name": "stdout",
     "output_type": "stream",
     "text": [
      "3\n",
      "3\n",
      "<class 'str'>\n"
     ]
    }
   ],
   "source": [
    "a = input() #input()可以读取键盘的输入，读入的值一定为字符串！！\n",
    "print(a)\n",
    "print(type(a))"
   ]
  },
  {
   "cell_type": "markdown",
   "metadata": {},
   "source": [
    "# 数学运算"
   ]
  },
  {
   "cell_type": "code",
   "execution_count": 30,
   "metadata": {},
   "outputs": [
    {
     "name": "stdout",
     "output_type": "stream",
     "text": [
      "a + b = 5\n",
      "a - b = -1\n",
      "a * b = 6\n",
      "a / b = 0.6666666666666666\n",
      "a // b = 0\n",
      "a ** b = 8\n",
      "a % b = 2\n"
     ]
    }
   ],
   "source": [
    "a = 2\n",
    "b = 3\n",
    "print('a + b =', a + b) \n",
    "print('a - b =', a - b)\n",
    "print('a * b =', a * b)\n",
    "print('a / b =', a / b) #除\n",
    "print('a // b =', a // b) #整除\n",
    "print('a ** b =', a ** b) #乘方\n",
    "print('a % b =', a % b) #mod求余"
   ]
  },
  {
   "cell_type": "markdown",
   "metadata": {},
   "source": [
    "# 控制语句"
   ]
  },
  {
   "cell_type": "markdown",
   "metadata": {},
   "source": [
    "#需要注意的是python中没有{}，因此作用域要通过缩进来判断，因此正确的缩进很重要"
   ]
  },
  {
   "cell_type": "code",
   "execution_count": 51,
   "metadata": {},
   "outputs": [
    {
     "name": "stdout",
     "output_type": "stream",
     "text": [
      "a = 10\n"
     ]
    }
   ],
   "source": [
    "a = 10\n",
    "if a == 10:\n",
    "    print('a =', a)\n",
    "elif a == 20: #python中elif代表else if\n",
    "    print('a =', a)\n",
    "else:\n",
    "    print('false')"
   ]
  },
  {
   "cell_type": "code",
   "execution_count": 32,
   "metadata": {},
   "outputs": [
    {
     "name": "stdout",
     "output_type": "stream",
     "text": [
      "0\n",
      "1\n",
      "2\n",
      "3\n",
      "4\n",
      "5\n",
      "6\n",
      "7\n",
      "8\n",
      "9\n"
     ]
    }
   ],
   "source": [
    "a = 0\n",
    "while a < 10:\n",
    "    print(a)\n",
    "    a += 1 #python中没有a++, a += 1表示 a = a + 1"
   ]
  },
  {
   "cell_type": "code",
   "execution_count": 18,
   "metadata": {},
   "outputs": [
    {
     "name": "stdout",
     "output_type": "stream",
     "text": [
      "0\n",
      "1\n",
      "2\n",
      "3\n",
      "4\n",
      "5\n",
      "6\n",
      "7\n",
      "8\n",
      "9\n"
     ]
    }
   ],
   "source": [
    "for i in range(0,10): #这个区间是左闭右开[0,10)\n",
    "    print(i)"
   ]
  },
  {
   "cell_type": "markdown",
   "metadata": {},
   "source": [
    "# 两个比较重要的容器"
   ]
  },
  {
   "cell_type": "raw",
   "metadata": {},
   "source": [
    "# list类似C++中的数组，但是拥有vector所有的功能，可以同时储存多种不同类型的变量，并且长度可变"
   ]
  },
  {
   "cell_type": "code",
   "execution_count": 41,
   "metadata": {},
   "outputs": [
    {
     "name": "stdout",
     "output_type": "stream",
     "text": [
      "[1, 2, 3]\n",
      "the first element is  1\n",
      "[1, 2] 3\n",
      "[2]\n"
     ]
    }
   ],
   "source": [
    "a = [1] #声明只含有一个元素 1 的list\n",
    "#a = [] #空list声明\n",
    "a.append(2) #在尾部添加元素 2\n",
    "a.append(3)\n",
    "print(a)\n",
    "print('the first element is ', a[0]) #根据下标进行索引\n",
    "b = a.pop() #弹出尾部的元素,需要注意的是弹出的同时会有返回值\n",
    "print(a, b)\n",
    "a.pop(0) #弹出首元素\n",
    "print(a)"
   ]
  },
  {
   "cell_type": "raw",
   "metadata": {},
   "source": [
    "# Dictionary类似hash table, 可以通过关键字做到点对点的查询，此容器是immutable的"
   ]
  },
  {
   "cell_type": "code",
   "execution_count": 50,
   "metadata": {},
   "outputs": [
    {
     "name": "stdout",
     "output_type": "stream",
     "text": [
      "luyr 20\n"
     ]
    }
   ],
   "source": [
    "a = {'name': 'luyr', 'age': 20, 'height': 175} #关键字一定要用引号括起来，冒号后是value, 不同元素中间用逗号隔开\n",
    "print(a['name'], a['age']) #通过键值进行索引"
   ]
  }
 ],
 "metadata": {
  "kernelspec": {
   "display_name": "Python 3",
   "language": "python",
   "name": "python3"
  },
  "language_info": {
   "codemirror_mode": {
    "name": "ipython",
    "version": 3
   },
   "file_extension": ".py",
   "mimetype": "text/x-python",
   "name": "python",
   "nbconvert_exporter": "python",
   "pygments_lexer": "ipython3",
   "version": "3.7.1"
  }
 },
 "nbformat": 4,
 "nbformat_minor": 2
}
